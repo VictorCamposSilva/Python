{
  "nbformat": 4,
  "nbformat_minor": 0,
  "metadata": {
    "colab": {
      "provenance": [],
      "authorship_tag": "ABX9TyOBYRgm+S3RWGK6ULIPJ5Fw",
      "include_colab_link": true
    },
    "kernelspec": {
      "name": "python3",
      "display_name": "Python 3"
    },
    "language_info": {
      "name": "python"
    }
  },
  "cells": [
    {
      "cell_type": "markdown",
      "metadata": {
        "id": "view-in-github",
        "colab_type": "text"
      },
      "source": [
        "<a href=\"https://colab.research.google.com/github/VictorCamposSilva/Python/blob/main/CelsiusparaFahrenheit.ipynb\" target=\"_parent\"><img src=\"https://colab.research.google.com/assets/colab-badge.svg\" alt=\"Open In Colab\"/></a>"
      ]
    },
    {
      "cell_type": "code",
      "execution_count": null,
      "metadata": {
        "colab": {
          "base_uri": "https://localhost:8080/"
        },
        "id": "XnuCYKeiwq0z",
        "outputId": "718a5867-9710-4906-9db3-b74c029f08d6"
      },
      "outputs": [
        {
          "output_type": "stream",
          "name": "stdout",
          "text": [
            "Bem vindo à calculadora de conversão de graus.\n",
            "Digite a temperatura em Celsius: 40\n",
            "A temperatura em Celsius é: 40 graus, e em Fahrenheit isso é: 104.0 graus\n"
          ]
        }
      ],
      "source": [
        "print('Bem vindo à calculadora de conversão de graus.')\n",
        "f = int(input('Digite a temperatura em Celsius: '))\n",
        "c = (f*9/5+32)\n",
        "print('A temperatura em Celsius é: {} graus, e em Fahrenheit isso é: {} graus'.format(f,c))"
      ]
    },
    {
      "cell_type": "code",
      "source": [],
      "metadata": {
        "id": "4nIdgQmT3lh_"
      },
      "execution_count": null,
      "outputs": []
    }
  ]
}