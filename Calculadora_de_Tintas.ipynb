{
  "nbformat": 4,
  "nbformat_minor": 0,
  "metadata": {
    "colab": {
      "provenance": [],
      "authorship_tag": "ABX9TyMaSsC0oXi4YpwFJezpjrNm",
      "include_colab_link": true
    },
    "kernelspec": {
      "name": "python3",
      "display_name": "Python 3"
    },
    "language_info": {
      "name": "python"
    }
  },
  "cells": [
    {
      "cell_type": "markdown",
      "metadata": {
        "id": "view-in-github",
        "colab_type": "text"
      },
      "source": [
        "<a href=\"https://colab.research.google.com/github/VictorCamposSilva/Python/blob/main/Calculadora_de_Tintas.ipynb\" target=\"_parent\"><img src=\"https://colab.research.google.com/assets/colab-badge.svg\" alt=\"Open In Colab\"/></a>"
      ]
    },
    {
      "cell_type": "code",
      "execution_count": null,
      "metadata": {
        "id": "MgmPotAdo3u6"
      },
      "outputs": [],
      "source": [
        "#LOJA DE TINTAS.\n",
        "\n",
        "# 1) O programa deverá pedir o tamanho em m2 da área a ser pintada.\n",
        "\n",
        "# 2) A cobertura de tinta é de 1 litro para cada 6 metros quadrados.\n",
        "\n",
        "# 3) A tinta é vendida em lotes de 18 litros, que custam R$ 80, ou em galões de 3,6 litros que custam R$ 25.\n",
        "\n",
        "# 4) Informa ao usuário as quantidades de tinta a serem compradas e os respectivos preços em três situações:\n",
        "\n",
        "# 5) *Comprar apenas latas de 18 litros.\n",
        "# 6) *Comprar apenas galões de 3,6 litros.\n",
        "# 7) *Misturar latas e galões de forma que o desperdício de tintas seja menor.\n",
        "\n",
        "# 8) Acrescente 10% de folga e sempre arredonde os valores para cima, isto é, considere sempre latas cheias.\n",
        "\n"
      ]
    },
    {
      "cell_type": "code",
      "source": [
        "print('Bem vindo(a) à calculadora de tintas.')\n",
        "metros = int(input('Digite o tamanho em metros quadrados da área a ser pintada: '))\n",
        "print('A cobertura de tintas é de 1 litro para cada 6 metros quadrados')\n",
        "tintas = (metros/6)\n",
        "print('Para pintar {} metros de parede você precisará de {} litros de tintas' .format(metros, tintas))\n",
        "#print('A tinta é vendida em lotes de 18 litros, que custam R$ 80, ou em galões de 3,6 litros que custam R$ 25')\n",
        "#print('Se você utilizar apenas lotes de tintas poderá pintar 108 metros de área. Se você utilizar apenas galões poderá pintar 21,6 metros de área.'))\n",
        "#print('Mas como a sua área de pintura é de {} metros de área os valores serão: '.format(metros))\n",
        "#print('1) Comprando apenas latas de 18 litros poderá pintar 108 metros o resultado será de: {}'.format(metros/18))\n",
        "#print('2) Comprando apenas galões de 3,6 litros poderá pintar 21,6 metros o resultado será de: {}'.format(metros/3,6))\n",
        "\n",
        "#um_litro_tinta = 6\n",
        "#lote_de_tintas = 18\n",
        "#galao = 3.6\n",
        "\n",
        "\n",
        "\n",
        "\n"
      ],
      "metadata": {
        "id": "uBTNTi5kpETH",
        "colab": {
          "base_uri": "https://localhost:8080/"
        },
        "outputId": "082920fe-57e7-4a98-a21f-327ef807a9c8"
      },
      "execution_count": null,
      "outputs": [
        {
          "output_type": "stream",
          "name": "stdout",
          "text": [
            "Bem vindo(a) à calculadora de tintas.\n",
            "Digite o tamanho em metros quadrados da área a ser pintada: 100\n",
            "A cobertura de tintas é de 1 litro para cada 6 metros quadrados\n",
            "Para pintar 100 metros de parede você precisará de 16.666666666666668 litros de tintas\n"
          ]
        }
      ]
    }
  ]
}