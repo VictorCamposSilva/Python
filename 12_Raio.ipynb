{
  "nbformat": 4,
  "nbformat_minor": 0,
  "metadata": {
    "colab": {
      "provenance": [],
      "authorship_tag": "ABX9TyN06dWHEGN1HmJJsOMVuT+C",
      "include_colab_link": true
    },
    "kernelspec": {
      "name": "python3",
      "display_name": "Python 3"
    },
    "language_info": {
      "name": "python"
    }
  },
  "cells": [
    {
      "cell_type": "markdown",
      "metadata": {
        "id": "view-in-github",
        "colab_type": "text"
      },
      "source": [
        "<a href=\"https://colab.research.google.com/github/VictorCamposSilva/Python/blob/main/12_Raio.ipynb\" target=\"_parent\"><img src=\"https://colab.research.google.com/assets/colab-badge.svg\" alt=\"Open In Colab\"/></a>"
      ]
    },
    {
      "cell_type": "code",
      "execution_count": null,
      "metadata": {
        "id": "gEbZa8q0gXzl"
      },
      "outputs": [],
      "source": [
        "# Faça um programa que peça o raio de um círculo, calcule e mostre sua área.\n",
        "import math\n",
        "r = int(input('Digite o raio do círculo que você deseja saber a área: '))\n",
        "raio = r**2\n",
        "area = pi * raio**2\n",
        "print(area)"
      ]
    }
  ]
}