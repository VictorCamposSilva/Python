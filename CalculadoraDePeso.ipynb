{
  "nbformat": 4,
  "nbformat_minor": 0,
  "metadata": {
    "colab": {
      "provenance": [],
      "authorship_tag": "ABX9TyOCDQSLQp9Tx5Foyeh/RVSB",
      "include_colab_link": true
    },
    "kernelspec": {
      "name": "python3",
      "display_name": "Python 3"
    },
    "language_info": {
      "name": "python"
    }
  },
  "cells": [
    {
      "cell_type": "markdown",
      "metadata": {
        "id": "view-in-github",
        "colab_type": "text"
      },
      "source": [
        "<a href=\"https://colab.research.google.com/github/VictorCamposSilva/Python/blob/main/CalculadoraDePeso.ipynb\" target=\"_parent\"><img src=\"https://colab.research.google.com/assets/colab-badge.svg\" alt=\"Open In Colab\"/></a>"
      ]
    },
    {
      "cell_type": "code",
      "execution_count": null,
      "metadata": {
        "colab": {
          "base_uri": "https://localhost:8080/"
        },
        "id": "pcdOVQ2WsIlw",
        "outputId": "05d23bb7-f588-40b0-ee7a-9014da02d0a4"
      },
      "outputs": [
        {
          "output_type": "stream",
          "name": "stdout",
          "text": [
            "Qual o seu nome? Victor\n",
            "Informe a sua altura utilizando o ponto no lugar da vírgula. Exemplo: 1.70 1.70\n",
            "Qual é o seu peso atual?84\n",
            "Digite M se o seu sexo for masculino ou F se for feminino.M\n",
            "Olá Victor, o seu peso ideal é: 60.86999999999999\n"
          ]
        }
      ],
      "source": [
        "#A partir da entrada da altura (h) calcule o peso ideal de uma pessoa utilizando a seguinte fórmula:\n",
        "# Homens: (72.7 *h) - 58\n",
        "# Mulheres: (62.1*h) - 44.7\n",
        "nome = input('Qual o seu nome? ')\n",
        "h = float(input('Informe a sua altura utilizando o ponto no lugar da vírgula. Exemplo: 1.70 '))\n",
        "peso = int(input('Qual é o seu peso atual?'))\n",
        "sexo = input('Digite M se o seu sexo for masculino ou F se for feminino.')\n",
        "if sexo == ('m'):\n",
        "  pesoideal = (72.7 * h) - 58\n",
        "  print('Olá {}, o seu peso ideal é: {}'.format(nome, pesoideal))\n",
        "else:\n",
        "  pesoideal = (62.1 * h) - 44.7\n",
        "  print('Olá {}, o seu peso ideal é: {}'.format(nome, pesoideal))\n"
      ]
    }
  ]
}