{
  "nbformat": 4,
  "nbformat_minor": 0,
  "metadata": {
    "colab": {
      "provenance": [],
      "authorship_tag": "ABX9TyNhhUnP9MdjRipNFxz054ZM",
      "include_colab_link": true
    },
    "kernelspec": {
      "name": "python3",
      "display_name": "Python 3"
    },
    "language_info": {
      "name": "python"
    }
  },
  "cells": [
    {
      "cell_type": "markdown",
      "metadata": {
        "id": "view-in-github",
        "colab_type": "text"
      },
      "source": [
        "<a href=\"https://colab.research.google.com/github/VictorCamposSilva/Python/blob/main/Aula08_Modulos.ipynb\" target=\"_parent\"><img src=\"https://colab.research.google.com/assets/colab-badge.svg\" alt=\"Open In Colab\"/></a>"
      ]
    },
    {
      "cell_type": "markdown",
      "source": [
        "# **Aula 08 - Curso em vídeo: MÓDULOS**"
      ],
      "metadata": {
        "id": "594sLCnk-7yo"
      }
    },
    {
      "cell_type": "code",
      "execution_count": null,
      "metadata": {
        "id": "xpGXg9ij-zvX",
        "colab": {
          "base_uri": "https://localhost:8080/",
          "height": 245
        },
        "outputId": "a7ea6318-5d11-4866-a1fb-8c098b36430e"
      },
      "outputs": [
        {
          "output_type": "stream",
          "name": "stdout",
          "text": [
            "Digite um número: 8\n",
            "A raiz quadrada do número 8 é : 2\n",
            "Requirement already satisfied: emoji in /usr/local/lib/python3.10/dist-packages (2.10.1)\n"
          ]
        },
        {
          "output_type": "error",
          "ename": "TypeError",
          "evalue": "emojize() got an unexpected keyword argument 'use_aliases'",
          "traceback": [
            "\u001b[0;31m---------------------------------------------------------------------------\u001b[0m",
            "\u001b[0;31mTypeError\u001b[0m                                 Traceback (most recent call last)",
            "\u001b[0;32m<ipython-input-9-113c84320988>\u001b[0m in \u001b[0;36m<cell line: 42>\u001b[0;34m()\u001b[0m\n\u001b[1;32m     40\u001b[0m \u001b[0mget_ipython\u001b[0m\u001b[0;34m(\u001b[0m\u001b[0;34m)\u001b[0m\u001b[0;34m.\u001b[0m\u001b[0msystem\u001b[0m\u001b[0;34m(\u001b[0m\u001b[0;34m'pip install emoji --upgrade'\u001b[0m\u001b[0;34m)\u001b[0m\u001b[0;34m\u001b[0m\u001b[0;34m\u001b[0m\u001b[0m\n\u001b[1;32m     41\u001b[0m \u001b[0;32mimport\u001b[0m \u001b[0memoji\u001b[0m\u001b[0;34m\u001b[0m\u001b[0;34m\u001b[0m\u001b[0m\n\u001b[0;32m---> 42\u001b[0;31m \u001b[0mprint\u001b[0m\u001b[0;34m(\u001b[0m\u001b[0memoji\u001b[0m\u001b[0;34m.\u001b[0m\u001b[0memojize\u001b[0m\u001b[0;34m(\u001b[0m\u001b[0;34m'Olá, hoje o dia é de sol...:sunglasses:'\u001b[0m\u001b[0;34m,\u001b[0m \u001b[0muse_aliases\u001b[0m\u001b[0;34m=\u001b[0m\u001b[0;32mTrue\u001b[0m\u001b[0;34m)\u001b[0m\u001b[0;34m)\u001b[0m\u001b[0;34m\u001b[0m\u001b[0;34m\u001b[0m\u001b[0m\n\u001b[0m\u001b[1;32m     43\u001b[0m \u001b[0;34m\u001b[0m\u001b[0m\n",
            "\u001b[0;31mTypeError\u001b[0m: emojize() got an unexpected keyword argument 'use_aliases'"
          ]
        }
      ],
      "source": [
        "# IMPORT BEBIDA\n",
        "# FROM BEBIDA IMPORT CAFÉ\n",
        "\n",
        "# IMPORT MATH\n",
        "\n",
        "# O que vem na importação de Math?\n",
        "\n",
        "# CEIL arredonda para cima\n",
        "# FLOOR arredonda para baixo\n",
        "# TRUNC vai limitar da vírgula para a frente sem fazer ardondamento nenhum.\n",
        "# POW Função power, iguel aos dois **, eleva à potência.\n",
        "# SQRT Função de raiz quadrada.\n",
        "# FACTORIAL Calcula o factorial.\n",
        "\n",
        "# Para usar apenas uma função faça assim:\n",
        "# FROM MATH IMPORT SQRT\n",
        "\n",
        "# ou para importar duas funções:\n",
        "\n",
        "# FROM MATH IMPORT SQRT AND CEIL\n",
        "\n",
        "import math\n",
        "num = int(input('Digite um número: '))\n",
        "raiz = int(math.sqrt(num)) #int para aparecer número inteiro apenas.\n",
        "print('A raiz quadrada do número {} é : {}'.format(num,raiz))\n",
        "\n",
        "#BIBLIOTECA RANDOM PARA RODAR NÚMEROS ALEATÓRIOS\n",
        "\n",
        "#import random\n",
        "#num = random.random()\n",
        "#print(num)\n",
        "# Vai rodar um número aleatório de 0.1 até 1.\n",
        "\n",
        "#import random\n",
        "#num = random.randint(1, 10)\n",
        "#print(num)\n",
        "# Vai escolher aleatóriamente um número de 1 até 10.\n",
        "\n",
        "# BIBLIOTECA EMOJI\n",
        "#!pip install emoji --upgrade\n",
        "#import emoji\n",
        "#print(emoji.emojize('Olá, hoje o dia é de sol...:sunglasses:', use_aliases=True))\n",
        "# pip install emoji\n",
        "\n",
        "# EXECÍCIOS\n",
        "\n",
        "# 16 -  CRIE UM PROGRAMA QUE LEIA UM NÍMERO REAL QUALQUER E MOSTRE A SUA PORÇÃO INTEIRA.\n",
        "\n",
        "# 17 - LEIA O COMPRIMEINTO DO CATETO OPOSTO E DO CATETO ADJACENTE DE UM TRIÂNGULO RETÂNGULO, CALCULE E MOSTRE O COMPRIMENTO DA HIPOTENUSA.\n",
        "\n",
        "# 18 - LEIA UM ÂNGULO QUALQUER E MOSTRE NA TELA O VALOR DO SENO, COSSENO E TANGENTE DESSE ÂNGULO.\n",
        "\n",
        "# 19 - UM PROFESSOR QUER SORTEAR UM DOS SEUS ALUNOS QUATRO ALUNOS PARA APAGAR O QUADRO. FAÇA UM PROGRAMA QUE AJUDE ELE, LENDO O NOME DELES E ESCREVENDO O NOME DO ESCOLHIDO.\n",
        "\n",
        "# 20 - O MESMO PROFESSOR QUER SORTEAR A ORDEM DE APRESENTAÇÃO DE TRABALHOS DE ALUNOS. FAÇA UM PROGRAMA QUE LEIA O NOME DOS QUATRO ALUNOS E MOSTRE A ORDEM SORTEADA.\n",
        "\n",
        "# 21 - FAÇA UM PROGRAMA QUE ABRA E REPRODUZA O ÁUDIO DE UM ARQUIVO MPE.\n"
      ]
    }
  ]
}