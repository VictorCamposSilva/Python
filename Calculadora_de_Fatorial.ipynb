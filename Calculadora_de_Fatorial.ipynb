{
  "nbformat": 4,
  "nbformat_minor": 0,
  "metadata": {
    "colab": {
      "provenance": [],
      "authorship_tag": "ABX9TyPMpVTqdfH5uWmwxSxEBMIV",
      "include_colab_link": true
    },
    "kernelspec": {
      "name": "python3",
      "display_name": "Python 3"
    },
    "language_info": {
      "name": "python"
    }
  },
  "cells": [
    {
      "cell_type": "markdown",
      "metadata": {
        "id": "view-in-github",
        "colab_type": "text"
      },
      "source": [
        "<a href=\"https://colab.research.google.com/github/VictorCamposSilva/Python/blob/main/Calculadora_de_Fatorial.ipynb\" target=\"_parent\"><img src=\"https://colab.research.google.com/assets/colab-badge.svg\" alt=\"Open In Colab\"/></a>"
      ]
    },
    {
      "cell_type": "markdown",
      "source": [
        "# Calculadora de Fatorial"
      ],
      "metadata": {
        "id": "_myiaxfvbjZ8"
      }
    },
    {
      "cell_type": "code",
      "execution_count": null,
      "metadata": {
        "id": "kBVe3grmtcBo",
        "colab": {
          "base_uri": "https://localhost:8080/"
        },
        "outputId": "41df1175-9477-45b8-e374-79c460305aaf"
      },
      "outputs": [
        {
          "output_type": "stream",
          "name": "stdout",
          "text": [
            "Digite um número para calcular o Fatorial: 8\n",
            "O factorial de 8 é 40320.\n"
          ]
        }
      ],
      "source": [
        "from math import factorial\n",
        "n = int(input('Digite um número para calcular o Fatorial: '))\n",
        "f = factorial(n)\n",
        "print('O factorial de {} é {}.'.format(n, f))\n"
      ]
    }
  ]
}