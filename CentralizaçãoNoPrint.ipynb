{
  "nbformat": 4,
  "nbformat_minor": 0,
  "metadata": {
    "colab": {
      "provenance": [],
      "toc_visible": true,
      "authorship_tag": "ABX9TyNjgnzG8MNvnJCLN7M42gYM",
      "include_colab_link": true
    },
    "kernelspec": {
      "name": "python3",
      "display_name": "Python 3"
    },
    "language_info": {
      "name": "python"
    }
  },
  "cells": [
    {
      "cell_type": "markdown",
      "metadata": {
        "id": "view-in-github",
        "colab_type": "text"
      },
      "source": [
        "<a href=\"https://colab.research.google.com/github/VictorCamposSilva/Python/blob/main/Centraliza%C3%A7%C3%A3oNoPrint.ipynb\" target=\"_parent\"><img src=\"https://colab.research.google.com/assets/colab-badge.svg\" alt=\"Open In Colab\"/></a>"
      ]
    },
    {
      "cell_type": "code",
      "execution_count": null,
      "metadata": {
        "colab": {
          "base_uri": "https://localhost:8080/"
        },
        "id": "T1uvahJ0AcaX",
        "outputId": "2f9d899e-5b4d-4db9-f6b6-603bee9b803c"
      },
      "outputs": [
        {
          "output_type": "stream",
          "name": "stdout",
          "text": [
            "Qual o seu nome?Victor\n",
            "Prazer em te conhecer =======Victor=======!\n"
          ]
        }
      ],
      "source": [
        "nome = input('Qual o seu nome?')\n",
        "print('Prazer em te conhecer {:=^20}!'.format(nome))\n"
      ]
    }
  ]
}