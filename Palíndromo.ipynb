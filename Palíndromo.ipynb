{
  "nbformat": 4,
  "nbformat_minor": 0,
  "metadata": {
    "colab": {
      "provenance": [],
      "authorship_tag": "ABX9TyOCmOxcoFurPlwTBINotZrO",
      "include_colab_link": true
    },
    "kernelspec": {
      "name": "python3",
      "display_name": "Python 3"
    },
    "language_info": {
      "name": "python"
    }
  },
  "cells": [
    {
      "cell_type": "markdown",
      "metadata": {
        "id": "view-in-github",
        "colab_type": "text"
      },
      "source": [
        "<a href=\"https://colab.research.google.com/github/VictorCamposSilva/Python/blob/main/Pal%C3%ADndromo.ipynb\" target=\"_parent\"><img src=\"https://colab.research.google.com/assets/colab-badge.svg\" alt=\"Open In Colab\"/></a>"
      ]
    },
    {
      "cell_type": "markdown",
      "source": [
        "Verificador de Palíndromo"
      ],
      "metadata": {
        "id": "bsWgr-l_f1Oz"
      }
    },
    {
      "cell_type": "code",
      "execution_count": null,
      "metadata": {
        "colab": {
          "base_uri": "https://localhost:8080/"
        },
        "id": "epefh3nzcmC_",
        "outputId": "ae6b06ec-e6a2-436a-b503-68e4c97e6412"
      },
      "outputs": [
        {
          "output_type": "stream",
          "name": "stdout",
          "text": [
            "Digite o número a verificar, sem espaços ou letras maiúsculas:silva\n",
            "silva não é um palíndromo\n"
          ]
        }
      ],
      "source": [
        "# Veja que estamos lendo o número sem convertê-lo para int ou float,\n",
        "# desta forma o valor de s será uma string\n",
        "s = input(\"Digite o número a verificar, sem espaços ou letras maiúsculas:\")\n",
        "i = 0\n",
        "f = len(s) - 1  # posição do último caracter da string\n",
        "while f > i and s[i] == s[f]:\n",
        "    f = f - 1\n",
        "    i = i + 1\n",
        "if s[i] == s[f]:\n",
        "    print(f\"{s} é um palíndromo\")\n",
        "else:\n",
        "    print(f\"{s} não é um palíndromo\")"
      ]
    }
  ]
}