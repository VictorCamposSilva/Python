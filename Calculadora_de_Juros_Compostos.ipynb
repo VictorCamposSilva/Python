{
  "nbformat": 4,
  "nbformat_minor": 0,
  "metadata": {
    "colab": {
      "provenance": [],
      "authorship_tag": "ABX9TyPsU2w5ul9zfdkVCjcC0Nij",
      "include_colab_link": true
    },
    "kernelspec": {
      "name": "python3",
      "display_name": "Python 3"
    },
    "language_info": {
      "name": "python"
    }
  },
  "cells": [
    {
      "cell_type": "markdown",
      "metadata": {
        "id": "view-in-github",
        "colab_type": "text"
      },
      "source": [
        "<a href=\"https://colab.research.google.com/github/VictorCamposSilva/Python/blob/main/Calculadora_de_Juros_Compostos.ipynb\" target=\"_parent\"><img src=\"https://colab.research.google.com/assets/colab-badge.svg\" alt=\"Open In Colab\"/></a>"
      ]
    },
    {
      "cell_type": "code",
      "execution_count": null,
      "metadata": {
        "id": "J7hLCKGe5dva",
        "outputId": "053af2c1-eb12-4863-eb32-642d99da71b3",
        "colab": {
          "base_uri": "https://localhost:8080/",
          "height": 106
        }
      },
      "outputs": [
        {
          "output_type": "error",
          "ename": "SyntaxError",
          "evalue": "invalid syntax (<ipython-input-1-ca32843a98e5>, line 12)",
          "traceback": [
            "\u001b[0;36m  File \u001b[0;32m\"<ipython-input-1-ca32843a98e5>\"\u001b[0;36m, line \u001b[0;32m12\u001b[0m\n\u001b[0;31m    iof = (emp + %)\u001b[0m\n\u001b[0m                 ^\u001b[0m\n\u001b[0;31mSyntaxError\u001b[0m\u001b[0;31m:\u001b[0m invalid syntax\n"
          ]
        }
      ],
      "source": [
        "# Calculadora de juros compostos.\n",
        "#Calcule o valor final de um investimento com base em uma taxa de juros e um período de tempo.\n",
        "# VARIÁVEIS\n",
        "    # EMPRÉSTIMO = emp\n",
        "    # IOF = iof\n",
        "    # PARCELAS = parcelas\n",
        "    # JUROS MENSAIS = jm\n",
        "    # PARCELAS MENSAIS = pm\n",
        "    # TOTAL = total\n",
        "\n",
        "emp = int(input('Digite o valor que foi pego de empréstimo: '))\n",
        "iof = ((emp + %)\n",
        "parcelas = 96\n",
        "jm = (emp + juros)\n",
        "pm = ((emp + jusros) / parcelas)\n",
        "\n",
        "print('O valor de {} foi financiado em 96 parcelas com o juros mensal de {}. Assim, após o acréscimo do IOF o valor ficou em R$ {}, a parcela mensal ficou em {} e o valor total a ser pago com os juros foi de R$ {}.'.format(emp, jm, iof, pm,(emp + iof + jm))"
      ]
    }
  ]
}