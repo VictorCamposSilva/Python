{
  "cells": [
    {
      "cell_type": "markdown",
      "metadata": {
        "id": "view-in-github",
        "colab_type": "text"
      },
      "source": [
        "<a href=\"https://colab.research.google.com/github/VictorCamposSilva/Python/blob/main/Calculadora_de_Idade.ipynb\" target=\"_parent\"><img src=\"https://colab.research.google.com/assets/colab-badge.svg\" alt=\"Open In Colab\"/></a>"
      ]
    },
    {
      "cell_type": "markdown",
      "metadata": {
        "id": "K7QwMoipkOMC"
      },
      "source": [
        "**Calculando a idade**"
      ]
    },
    {
      "cell_type": "code",
      "execution_count": null,
      "metadata": {
        "colab": {
          "background_save": true,
          "base_uri": "https://localhost:8080/"
        },
        "id": "KLUPdS5MkJAP",
        "outputId": "07bc96ad-8595-4695-9450-b5f9375ba55e"
      },
      "outputs": [
        {
          "name": "stdout",
          "output_type": "stream",
          "text": [
            "Oswaldo é menor de idade.\n",
            "Eliana é menor de idade.\n",
            "Victor é menor de idade.\n",
            "Monique é menor de idade.\n",
            "Louise é menor de idade.\n",
            "Isaura é menor de idade.\n",
            "Théo é menor de idade.\n"
          ]
        }
      ],
      "source": [
        "# Crie um programa que leia o ano de nascimento de sete pessoas.\n",
        "# No final, mostre quantas pessoas ainda não atingiram a maioridade e quantas já são maiores.\n",
        "\n",
        "from datetime import date\n",
        "\n",
        "ano_atual = date.today().year # pega a data atual ao rodar o codigo\n",
        "\n",
        "ano = 0\n",
        "maiores_idade = 0   #variavel q vai acumular quantas pessoas sao +18\n",
        "menores_idade = 0   #variavel q vai acumular quantas pessoas sao -18\n",
        "\n",
        "for c in range(0,7): #vai pedir 8 idades\n",
        "    nome1 = input('Informe o nome da primeira pessoa: ')\n",
        "    id1 = int(input('Digite o ano de nascimento: '))\n",
        "    nome2 = input('Informe o nome da segunda pessoa: ')\n",
        "    id2 = int(input('Digite o ano de nascimento: '))\n",
        "    nome3 = input('Informe o nome da terceira pessoa: ')\n",
        "    id3 = int(input('Digite o ano de nascimento: '))\n",
        "    nome4 = input('Informe o nome da quarta pessoa: ')\n",
        "    id4 = int(input('Digite o ano de nascimento: '))\n",
        "    nome5 = input('Informe o nome da quinta pessoa: ')\n",
        "    id5 = int(input('Digite o ano de nascimento: '))\n",
        "    nome6 = input('Informe o nome da sexta pessoa: ')\n",
        "    id6 = int(input('Digite o ano de nascimento: '))\n",
        "    nome7 = input('Informe o nome da sétima pessoa: ')\n",
        "    id7 = int(input('Digite o ano de nascimento: '))\n",
        "    idade_pessoa = ano_atual - ano  #calcula a idade da pessoa\n",
        "\n",
        "    if id1 == idade_pessoa > 18:\n",
        "        maiores_idade = maiores_idade + 1  #acumulador q vai exibir quantas pessoas sao +18\n",
        "        print('{} é maior de idade.'.format(nome1))\n",
        "    elif id2 == idade_pessoa > 18:\n",
        "        maiores_idade = maiores_idade + 1\n",
        "        print('{} é maior de idade.'.format(nome2))\n",
        "    elif id3 == idade_pessoa > 18:\n",
        "        maiores_idade = maiores_idade + 1\n",
        "        print('{} é maior de idade.'.format(nome3))\n",
        "    elif id4 == idade_pessoa > 18:\n",
        "        maiores_idade = maiores_idade + 1\n",
        "        print('{} é maior de idade.'.format(nome4))\n",
        "    elif id5 == idade_pessoa > 18:\n",
        "        maiores_idade = maiores_idade + 1\n",
        "        print('{} é maior de idade.'.format(nome5))\n",
        "    elif id6 == idade_pessoa > 18:\n",
        "        maiores_idade = maiores_idade + 1\n",
        "        print('{} é maior de idade.'.format(nome6))\n",
        "    elif id7 == idade_pessoa > 18:\n",
        "        maiores_idade = maiores_idade + 1\n",
        "        print('{} é maior de idade.'.format(nome7))\n",
        "    else:\n",
        "        menores_idade = menores_idade + 1  #acumulador q vai exibir quantas pessoas sao -18\n",
        "        print('{} é menor de idade.'.format(nome1))\n",
        "        menores_idade = menores_idade + 1  #acumulador q vai exibir quantas pessoas sao -18\n",
        "        print('{} é menor de idade.'.format(nome2))\n",
        "        menores_idade = menores_idade + 1  #acumulador q vai exibir quantas pessoas sao -18\n",
        "        print('{} é menor de idade.'.format(nome3))\n",
        "        menores_idade = menores_idade + 1  #acumulador q vai exibir quantas pessoas sao -18\n",
        "        print('{} é menor de idade.'.format(nome4))\n",
        "        menores_idade = menores_idade + 1  #acumulador q vai exibir quantas pessoas sao -18\n",
        "        print('{} é menor de idade.'.format(nome5))\n",
        "        menores_idade = menores_idade + 1  #acumulador q vai exibir quantas pessoas sao -18\n",
        "        print('{} é menor de idade.'.format(nome6))\n",
        "        menores_idade = menores_idade + 1  #acumulador q vai exibir quantas pessoas sao -18\n",
        "        print('{} é menor de idade.'.format(nome7))\n",
        "\n",
        "\n"
      ]
    }
  ],
  "metadata": {
    "colab": {
      "provenance": [],
      "authorship_tag": "ABX9TyPVQS5RSztn0gthbcwXV1x4",
      "include_colab_link": true
    },
    "kernelspec": {
      "display_name": "Python 3",
      "name": "python3"
    },
    "language_info": {
      "name": "python"
    }
  },
  "nbformat": 4,
  "nbformat_minor": 0
}